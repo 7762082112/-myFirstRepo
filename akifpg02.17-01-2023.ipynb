{
 "cells": [
  {
   "cell_type": "code",
   "execution_count": 20,
   "metadata": {},
   "outputs": [
    {
     "name": "stdout",
     "output_type": "stream",
     "text": [
      "Positive Comments:\n",
      "  ['He is a good boy', 'He is an awesome player', 'She is the best', 'These burger are really nice']\n",
      "Negative Comments: \n",
      " ['Food is the worst here', 'This pizza tastes awful']\n"
     ]
    }
   ],
   "source": [
    "# (1) \n",
    "# Given below are a list of positive and negative words. Also a list of comments is provided. Segregate the comments based on positive and negative sentiments.\n",
    "positive = ['good','awesome', 'best', 'nice']\n",
    "negative = ['worst','awful']\n",
    "comments = ['He is a good boy',\n",
    "'Food is the worst here',\n",
    "'He is an awesome player',\n",
    "'She is the best',\n",
    "'This pizza tastes awful',\n",
    "'These burger are really nice']\n",
    "\n",
    "positive = ['good','awesome', 'best', 'nice']\n",
    "\n",
    "negative = ['worst','awful']\n",
    "\n",
    "comments = ['He is a good boy',\n",
    "            'Food is the worst here',\n",
    "            'He is an awesome player',\n",
    "            'She is the best',\n",
    "            'This pizza tastes awful',\n",
    "            'These burger are really nice']\n",
    "\n",
    "Positive_lines = []\n",
    "Negative_lines = []\n",
    "\n",
    "for lines in comments:\n",
    "    for pos in positive:\n",
    "        if pos in lines:\n",
    "            Positive_lines.append(lines)\n",
    "    for neg in negative:\n",
    "        if neg in lines:\n",
    "            Negative_lines.append(lines)\n",
    "\n",
    "print(\"Positive Comments:\\n \", Positive_lines)\n",
    "print(\"Negative Comments: \\n\", Negative_lines)"
   ]
  },
  {
   "cell_type": "code",
   "execution_count": 34,
   "metadata": {},
   "outputs": [
    {
     "name": "stdout",
     "output_type": "stream",
     "text": [
      "20\n"
     ]
    }
   ],
   "source": [
    "\n"
   ]
  },
  {
   "cell_type": "code",
   "execution_count": 35,
   "metadata": {},
   "outputs": [
    {
     "name": "stdout",
     "output_type": "stream",
     "text": [
      "82.0\n"
     ]
    }
   ],
   "source": [
    "#Answer2\n",
    "Num = int(input(\"Enter a Number\"))\n",
    "Dict_ = { 'Square': lambda a : a**2, \n",
    "        'Cube': lambda a : a**3, \n",
    "        'Squareroot': lambda a : a**(1/2),}\n",
    "       \n",
    "sum = 0\n",
    "for key in Dict_.keys():\n",
    "        sum += Dict_[key](Num)\n",
    "\n",
    "\n",
    "print(sum)"
   ]
  },
  {
   "cell_type": "code",
   "execution_count": 21,
   "metadata": {},
   "outputs": [
    {
     "name": "stdout",
     "output_type": "stream",
     "text": [
      "Sour Fruits: ['Lemon', 'Grapes', 'Kiwi', 'Orange', 'Limes']\n"
     ]
    }
   ],
   "source": [
    "#(3)\n",
    "# Find the fruits that are sour in taste from the tuple given below.\n",
    "\n",
    "fruits = (('Lemon','sour'),\n",
    "('DragonFruit', 'Sweet'),\n",
    "('Grapes','soUr'),\n",
    "('Kiwi','Sour'),\n",
    "('Apples','sweet'),\n",
    "('Orange','sour'),\n",
    "('Blueberries','sweet'),\n",
    "('Limes','Sour')\n",
    ")\n",
    "#Output\n",
    "\n",
    "\n",
    "fruits = (('Lemon','sour'), ('DragonFruit', 'Sweet'), ('Grapes','soUr'), ('Kiwi','Sour'), ('Apples','sweet'), ('Orange','sour'), ('Blueberries','sweet'), ('Limes','Sour') ) \n",
    "fruits_d = dict(fruits)\n",
    "Sour_Fruits = []\n",
    "\n",
    "for i in fruits_d:\n",
    "    j = fruits_d[i].lower()\n",
    "    if j == 'sour':\n",
    "        Sour_Fruits.append(i)\n",
    "\n",
    "print(\"Sour Fruits:\", Sour_Fruits)\n",
    "\n"
   ]
  },
  {
   "cell_type": "code",
   "execution_count": 22,
   "metadata": {},
   "outputs": [
    {
     "name": "stdout",
     "output_type": "stream",
     "text": [
      "output :  ['hOw', 'ARe']\n"
     ]
    }
   ],
   "source": [
    "# (4).\n",
    "# A list of words is given. Find the words from the list that have their second character in uppercase.\n",
    "#ls = ['hello', 'Dear', 'hOw', 'ARe', 'You']\n",
    "#Output: ['hOw', 'ARe']\n",
    "\n",
    "\n",
    "ls =['hello','Dear','hOw','ARe','You']\n",
    "\n",
    "output = [] \n",
    "for i in ls:\n",
    "    if i[1].isupper(): \n",
    "        output.append(i)\n",
    "print(\"output : \", output)\n"
   ]
  },
  {
   "cell_type": "code",
   "execution_count": 23,
   "metadata": {},
   "outputs": [
    {
     "name": "stdout",
     "output_type": "stream",
     "text": [
      "Weight On Moon:  {'John': 7.44, 'Shelly': 10.75, 'Marry': 5.79}\n"
     ]
    }
   ],
   "source": [
    "#(5)\n",
    "WeightOnEarth = {'John' : 45 ,\n",
    "                'Shelly' : 65,\n",
    "                'Marry': 35}\n",
    "\n",
    "GMoon = 1.622\n",
    "GEarth = 9.81\n",
    "print('Weight On Moon: ', (dict(map(lambda x : (x, round(WeightOnEarth[x]*GMoon/GEarth, 2)), WeightOnEarth))))\n"
   ]
  },
  {
   "cell_type": "code",
   "execution_count": 24,
   "metadata": {},
   "outputs": [
    {
     "name": "stdout",
     "output_type": "stream",
     "text": [
      "Output:  ['Maria', 'Hello', 'World', 'Merry', 'You']\n"
     ]
    }
   ],
   "source": [
    "#(6)\n",
    "# Write a program to fetch the words from the given list which have their\n",
    "#first character in uppercase.\n",
    "#namesList = ['santa Maria', 'Hello World','Merry christmas', 'tHank\n",
    "#You']\n",
    "#Output: ['Maria', 'Hello', 'World', 'Merry', 'You']\n",
    "\n",
    "namesList = ['santa', 'Maria', 'Hello', 'World','Merry' , 'christmas', 'tHank','You']\n",
    "OutPut = []\n",
    "\n",
    "for i in namesList:\n",
    "    if i[0].isupper():\n",
    "        OutPut.append(i)\n",
    "\n",
    "print(\"Output: \", OutPut)"
   ]
  },
  {
   "cell_type": "code",
   "execution_count": 25,
   "metadata": {},
   "outputs": [
    {
     "data": {
      "text/plain": [
       "{3, 8}"
      ]
     },
     "execution_count": 25,
     "metadata": {},
     "output_type": "execute_result"
    }
   ],
   "source": [
    "##(7)\n",
    "# A list containing multiple lists is given. Convert each inner list into sets and find the intersection of all the sets.\n",
    "#Use reduce function.\n",
    "#given_sets = [[1, 2, 3, 4, 8], [2, 3, 8, 5, 6], [8, 4, 5, 3, 7], [6, 9, 8, 3], [9,\n",
    "#12, 3, 7, 6, 8, 4, 6, 21, 1, 6]]\n",
    "#Output: {8, 3}\n",
    "\n",
    "given_sets = [[1, 2, 3, 4, 8], \n",
    "              [2, 3, 8, 5, 6], \n",
    "              [8, 4, 5, 3, 7], \n",
    "              [6, 9, 8, 3], \n",
    "              [9, 12, 3, 7, 6, 8, 4, 6, 21, 1, 6]] \n",
    "\n",
    "from functools import reduce\n",
    "\n",
    "reduce(lambda a, b : a.intersection(b), map(set, given_sets))\n"
   ]
  },
  {
   "cell_type": "code",
   "execution_count": 26,
   "metadata": {},
   "outputs": [
    {
     "name": "stdout",
     "output_type": "stream",
     "text": [
      "[9, 8.5, 7.75, 6.875, 5.9375]\n"
     ]
    }
   ],
   "source": [
    "#(8)\n",
    "# Find the cumulative average of the list [9,8,7,6,5] using accumulate()and lambda function\n",
    "\n",
    "from itertools import accumulate\n",
    "nums = [9, 8, 7, 6, 5]\n",
    "cumulative_avg = list(accumulate(nums, lambda x, y: (x+y)/2))\n",
    "print(cumulative_avg)"
   ]
  },
  {
   "cell_type": "code",
   "execution_count": 27,
   "metadata": {},
   "outputs": [
    {
     "name": "stdout",
     "output_type": "stream",
     "text": [
      "['TRUE', 'FALSE', 'TRUE', 'TRUE', 'FALSE', 'FALSE']\n"
     ]
    }
   ],
   "source": [
    "# (9)\n",
    "# A list of words is given. Convert the words into uppercase. Use lambda and map functions.\n",
    "lsbool = ['True','FALse','tRUe','tRue','False','faLse']\n",
    "\n",
    "#Output: ['TRUE', 'FALSE', 'TRUE', 'TRUE', 'FALSE', 'FALSE']\n",
    "\n",
    "\n",
    "\n",
    "lsbool = ['True','FALse','tRUe','tRue','False','faLse']\n",
    "out1 = []\n",
    "\n",
    "out = map(lambda x:x.upper(),lsbool)\n",
    "\n",
    "for o in out:\n",
    "    out1.append(o)\n",
    "\n",
    "print(out1)"
   ]
  },
  {
   "cell_type": "code",
   "execution_count": 28,
   "metadata": {},
   "outputs": [
    {
     "name": "stdout",
     "output_type": "stream",
     "text": [
      "['1997', '2011', '1993', '2020']\n"
     ]
    }
   ],
   "source": [
    "#(10)\n",
    "# A list of dates (dd-mm-yyyy)in the form of string is given below. Create a new list that stores years i.e. the 'yyyy' part from the dates in\n",
    "#\n",
    "# the given list.\n",
    "\n",
    "#datesList = ['17-12-1997','22-04-2011','01-05-1993','19-06-2020']\n",
    "#Output: ['1997','2011','1993','2020']\n",
    "\n",
    "\n",
    "Batch = ['17-12-1997','22-04-2011','01-05-1993','19-06-2020']\n",
    "Year = []\n",
    "for date in Batch:\n",
    "    Year.append(date.split('-')[2])\n",
    "\n",
    "print(Year)"
   ]
  }
 ],
 "metadata": {
  "kernelspec": {
   "display_name": "Python 3",
   "language": "python",
   "name": "python3"
  },
  "language_info": {
   "codemirror_mode": {
    "name": "ipython",
    "version": 3
   },
   "file_extension": ".py",
   "mimetype": "text/x-python",
   "name": "python",
   "nbconvert_exporter": "python",
   "pygments_lexer": "ipython3",
   "version": "3.11.1 (tags/v3.11.1:a7a450f, Dec  6 2022, 19:58:39) [MSC v.1934 64 bit (AMD64)]"
  },
  "orig_nbformat": 4,
  "vscode": {
   "interpreter": {
    "hash": "b91f41160b83ffc59c7e17fa6fd02d637d5dcf1d5e59aa2db87d82178661b954"
   }
  }
 },
 "nbformat": 4,
 "nbformat_minor": 2
}
